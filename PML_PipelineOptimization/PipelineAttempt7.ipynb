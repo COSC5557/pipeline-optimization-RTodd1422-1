{
 "cells": [
  {
   "cell_type": "code",
   "execution_count": 4,
   "id": "f9417143",
   "metadata": {},
   "outputs": [
    {
     "name": "stdout",
     "output_type": "stream",
     "text": [
      "Best parameters found by Randomized Search:\n",
      "{'regressor__n_estimators': 100, 'regressor__min_samples_split': 5, 'regressor__min_samples_leaf': 1, 'regressor__max_depth': None, 'preprocessor__num__with_mean': True, 'imputer__strategy': 'median'}\n",
      "Best cross-validation score: 0.4883511128732663\n",
      "\n",
      "Best parameters found by Bayesian Optimization:\n",
      "OrderedDict([('imputer__strategy', 'median'), ('preprocessor__num__with_mean', True), ('regressor__max_depth', None), ('regressor__min_samples_leaf', 2), ('regressor__min_samples_split', 2), ('regressor__n_estimators', 100)])\n",
      "Best cross-validation score: 0.4823871348566812\n"
     ]
    },
    {
     "data": {
      "image/png": "[encoded data removed]",
      "text/plain": [
       "<Figure size 640x480 with 1 Axes>"
      ]
     },
     "metadata": {},
     "output_type": "display_data"
    }
   ],
   "source": [
    "import pandas as pd\n",
    "from sklearn.model_selection import train_test_split\n",
    "from sklearn.preprocessing import StandardScaler, OneHotEncoder\n",
    "from sklearn.impute import SimpleImputer\n",
    "from sklearn.compose import ColumnTransformer\n",
    "from sklearn.pipeline import Pipeline\n",
    "from sklearn.ensemble import RandomForestRegressor\n",
    "from sklearn.svm import SVR\n",
    "from skopt import BayesSearchCV\n",
    "from sklearn.model_selection import RandomizedSearchCV\n",
    "from skopt.plots import plot_convergence\n",
    "import matplotlib.pyplot as plt\n",
    "\n",
    "# Load the dataset\n",
    "data = pd.read_csv(\"winequality-white.csv\")\n",
    "\n",
    "# Separate features and target\n",
    "X = data.drop(\"quality\", axis=1)\n",
    "y = data[\"quality\"]\n",
    "\n",
    "# Split the data into training and testing sets\n",
    "X_train, X_test, y_train, y_test = train_test_split(X, y, test_size=0.2, random_state=42)\n",
    "\n",
    "# Define the machine learning pipeline\n",
    "numeric_features = X.select_dtypes(include=['int64', 'float64']).columns\n",
    "categorical_features = X.select_dtypes(include=['object']).columns\n",
    "\n",
    "preprocessor = ColumnTransformer(\n",
    "    transformers=[\n",
    "        ('num', StandardScaler(), numeric_features),\n",
    "        ('cat', OneHotEncoder(), categorical_features)\n",
    "    ])\n",
    "\n",
    "pipeline = Pipeline([\n",
    "    ('preprocessor', preprocessor),\n",
    "    ('imputer', SimpleImputer(strategy='mean')),\n",
    "    ('regressor', RandomForestRegressor())\n",
    "])\n",
    "\n",
    "# Define hyperparameter search space\n",
    "param_dist = {\n",
    "    'preprocessor__num__with_mean': [True, False],\n",
    "    'imputer__strategy': ['mean', 'median', 'most_frequent'],\n",
    "    'regressor__n_estimators': [50, 100, 150],\n",
    "    'regressor__max_depth': [None, 10, 20, 30],\n",
    "    'regressor__min_samples_split': [2, 5, 10],\n",
    "    'regressor__min_samples_leaf': [1, 2, 4]\n",
    "}\n",
    "\n",
    "# Randomized Search\n",
    "random_search = RandomizedSearchCV(\n",
    "    pipeline,\n",
    "    param_distributions=param_dist,\n",
    "    n_iter=10,\n",
    "    cv=5,\n",
    "    n_jobs=-1,\n",
    "    random_state=42\n",
    ")\n",
    "\n",
    "# Fit the pipeline with the training data\n",
    "random_search.fit(X_train, y_train)\n",
    "\n",
    "# Print the best parameters\n",
    "print(\"Best parameters found by Randomized Search:\")\n",
    "print(random_search.best_params_)\n",
    "print(\"Best cross-validation score:\", random_search.best_score_)\n",
    "\n",
    "# Bayesian Optimization\n",
    "opt = BayesSearchCV(\n",
    "    pipeline,\n",
    "    search_spaces=param_dist,\n",
    "    n_iter=10,\n",
    "    cv=5,\n",
    "    n_jobs=-1,\n",
    "    random_state=42,\n",
    "    n_points=1\n",
    ")\n",
    "\n",
    "# Fit the pipeline with the training data\n",
    "opt.fit(X_train, y_train)\n",
    "\n",
    "# Print the best parameters\n",
    "print(\"\\nBest parameters found by Bayesian Optimization:\")\n",
    "print(opt.best_params_)\n",
    "print(\"Best cross-validation score:\", opt.best_score_)\n",
    "\n",
    "# Plot Bayesian Optimization Convergence\n",
    "plot_convergence(opt)\n",
    "plt.show()\n"
   ]
  },
  {
   "cell_type": "code",
   "execution_count": null,
   "id": "527e8165",
   "metadata": {},
   "outputs": [],
   "source": [
    "pip install scikit-optimize"
   ]
  },
  {
   "cell_type": "code",
   "execution_count": null,
   "id": "d9bd2d23",
   "metadata": {},
   "outputs": [],
   "source": []
  }
 ],
 "metadata": {
  "kernelspec": {
   "display_name": "Python 3 (ipykernel)",
   "language": "python",
   "name": "python3"
  },
  "language_info": {
   "codemirror_mode": {
    "name": "ipython",
    "version": 3
   },
   "file_extension": ".py",
   "mimetype": "text/x-python",
   "name": "python",
   "nbconvert_exporter": "python",
   "pygments_lexer": "ipython3",
   "version": "3.9.13"
  }
 },
 "nbformat": 4,
 "nbformat_minor": 5
}
